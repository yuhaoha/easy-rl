{
 "cells": [
  {
   "cell_type": "markdown",
   "metadata": {},
   "source": [
    "### Deep QLearning Network(DQN) 解决Cartpole问题\n",
    "环境描述 https://github.com/openai/gym/blob/master/gym/envs/classic_control/cartpole.py  \n",
    "\n",
    "动作为离散量，有2个：0 \\(push cart to the left\\)  1\\(push cart to the right\\)，环境实现上是给10大小的力，根据角度等因素计算下一时刻的状态(所以模型也是已知的)  \n",
    "\n",
    "状态为连续量，有4个：车的位置[-4.8,4.8]、车的速度[-inf,inf]、杆的角度[-0.418,0.418]\\(-24°~24°\\)、杆顶部的速度[-inf,inf]  \n",
    "\n",
    "停止条件 done ：车的位置超出[-2.4,2.4] or 杆的角度超出\\(-12°~12°\\) or 回合长度大于200 （对于v1来说是500）  \n",
    "\n",
    "奖励：由于目标是使pole立住，所以每成功一个step，给予1的奖励，由于可能会无限循环，所以设置回合长度最大为200，那么一个回合最大的奖励就是200  \n",
    "\n"
   ]
  },
  {
   "cell_type": "code",
   "execution_count": 6,
   "metadata": {},
   "outputs": [
    {
     "name": "stdout",
     "output_type": "stream",
     "text": [
      "状态数：4，动作数：2\n",
      "状态:Box([-4.8000002e+00 -3.4028235e+38 -4.1887903e-01 -3.4028235e+38], [4.8000002e+00 3.4028235e+38 4.1887903e-01 3.4028235e+38], (4,), float32),\n",
      "动作:Discrete(2)\n"
     ]
    }
   ],
   "source": [
    "import gym\n",
    "env = gym.make('CartPole-v0') # 建立环境\n",
    "env.seed(1) # 随机种子\n",
    "n_states = env.observation_space.shape[0] # 状态数 分别为车的位置、车的速度、杆的角度以及杆顶部的速度\n",
    "n_actions = env.action_space.n # 动作数\n",
    "print(f\"状态数：{n_states}，动作数：{n_actions}\")\n",
    "print(\"状态:{},\\n动作:{}\".format(env.observation_space,env.action_space))"
   ]
  }
 ],
 "metadata": {
  "interpreter": {
   "hash": "e23d457edd753124fdb8456be976a4c7063b5b99e5e972341244b7798d03c435"
  },
  "kernelspec": {
   "display_name": "Python 3.7.3 ('gym')",
   "language": "python",
   "name": "python3"
  },
  "language_info": {
   "codemirror_mode": {
    "name": "ipython",
    "version": 3
   },
   "file_extension": ".py",
   "mimetype": "text/x-python",
   "name": "python",
   "nbconvert_exporter": "python",
   "pygments_lexer": "ipython3",
   "version": "3.7.3"
  },
  "orig_nbformat": 4
 },
 "nbformat": 4,
 "nbformat_minor": 2
}
